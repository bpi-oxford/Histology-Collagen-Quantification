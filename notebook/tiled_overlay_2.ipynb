{
 "cells": [
  {
   "cell_type": "code",
   "execution_count": 1,
   "metadata": {},
   "outputs": [],
   "source": [
    "import pandas as pd\n",
    "import matplotlib.pyplot as plt\n",
    "import numpy as np"
   ]
  },
  {
   "cell_type": "code",
   "execution_count": 3,
   "metadata": {},
   "outputs": [
    {
     "data": {
      "text/html": [
       "<div>\n",
       "<style scoped>\n",
       "    .dataframe tbody tr th:only-of-type {\n",
       "        vertical-align: middle;\n",
       "    }\n",
       "\n",
       "    .dataframe tbody tr th {\n",
       "        vertical-align: top;\n",
       "    }\n",
       "\n",
       "    .dataframe thead th {\n",
       "        text-align: right;\n",
       "    }\n",
       "</style>\n",
       "<table border=\"1\" class=\"dataframe\">\n",
       "  <thead>\n",
       "    <tr style=\"text-align: right;\">\n",
       "      <th></th>\n",
       "      <th>x0</th>\n",
       "      <th>y0</th>\n",
       "      <th>x1</th>\n",
       "      <th>y1</th>\n",
       "      <th>collagen (px^2)</th>\n",
       "      <th>tissue (px^2)</th>\n",
       "      <th>collagen vs tissue (%)</th>\n",
       "    </tr>\n",
       "  </thead>\n",
       "  <tbody>\n",
       "    <tr>\n",
       "      <th>0</th>\n",
       "      <td>20480</td>\n",
       "      <td>0</td>\n",
       "      <td>22528</td>\n",
       "      <td>2048</td>\n",
       "      <td>602.0</td>\n",
       "      <td>3968</td>\n",
       "      <td>15.171371</td>\n",
       "    </tr>\n",
       "    <tr>\n",
       "      <th>1</th>\n",
       "      <td>22528</td>\n",
       "      <td>0</td>\n",
       "      <td>24576</td>\n",
       "      <td>2048</td>\n",
       "      <td>1561.0</td>\n",
       "      <td>7936</td>\n",
       "      <td>19.669859</td>\n",
       "    </tr>\n",
       "    <tr>\n",
       "      <th>2</th>\n",
       "      <td>12288</td>\n",
       "      <td>2048</td>\n",
       "      <td>14336</td>\n",
       "      <td>4096</td>\n",
       "      <td>0.0</td>\n",
       "      <td>4096</td>\n",
       "      <td>0.000000</td>\n",
       "    </tr>\n",
       "    <tr>\n",
       "      <th>3</th>\n",
       "      <td>14336</td>\n",
       "      <td>2048</td>\n",
       "      <td>16384</td>\n",
       "      <td>4096</td>\n",
       "      <td>143.0</td>\n",
       "      <td>4096</td>\n",
       "      <td>3.491211</td>\n",
       "    </tr>\n",
       "    <tr>\n",
       "      <th>4</th>\n",
       "      <td>18432</td>\n",
       "      <td>2048</td>\n",
       "      <td>20480</td>\n",
       "      <td>4096</td>\n",
       "      <td>6124.0</td>\n",
       "      <td>32768</td>\n",
       "      <td>18.688965</td>\n",
       "    </tr>\n",
       "    <tr>\n",
       "      <th>...</th>\n",
       "      <td>...</td>\n",
       "      <td>...</td>\n",
       "      <td>...</td>\n",
       "      <td>...</td>\n",
       "      <td>...</td>\n",
       "      <td>...</td>\n",
       "      <td>...</td>\n",
       "    </tr>\n",
       "    <tr>\n",
       "      <th>204</th>\n",
       "      <td>20480</td>\n",
       "      <td>30720</td>\n",
       "      <td>22528</td>\n",
       "      <td>32768</td>\n",
       "      <td>28741.0</td>\n",
       "      <td>2392064</td>\n",
       "      <td>1.201515</td>\n",
       "    </tr>\n",
       "    <tr>\n",
       "      <th>205</th>\n",
       "      <td>22528</td>\n",
       "      <td>30720</td>\n",
       "      <td>24576</td>\n",
       "      <td>32768</td>\n",
       "      <td>24032.0</td>\n",
       "      <td>1421312</td>\n",
       "      <td>1.690832</td>\n",
       "    </tr>\n",
       "    <tr>\n",
       "      <th>206</th>\n",
       "      <td>24576</td>\n",
       "      <td>30720</td>\n",
       "      <td>26624</td>\n",
       "      <td>32768</td>\n",
       "      <td>5874.0</td>\n",
       "      <td>516096</td>\n",
       "      <td>1.138160</td>\n",
       "    </tr>\n",
       "    <tr>\n",
       "      <th>207</th>\n",
       "      <td>26624</td>\n",
       "      <td>30720</td>\n",
       "      <td>28672</td>\n",
       "      <td>32768</td>\n",
       "      <td>5743.0</td>\n",
       "      <td>20480</td>\n",
       "      <td>28.041992</td>\n",
       "    </tr>\n",
       "    <tr>\n",
       "      <th>208</th>\n",
       "      <td>32768</td>\n",
       "      <td>30720</td>\n",
       "      <td>34816</td>\n",
       "      <td>32768</td>\n",
       "      <td>0.0</td>\n",
       "      <td>4096</td>\n",
       "      <td>0.000000</td>\n",
       "    </tr>\n",
       "  </tbody>\n",
       "</table>\n",
       "<p>209 rows × 7 columns</p>\n",
       "</div>"
      ],
      "text/plain": [
       "        x0     y0     x1     y1  collagen (px^2)  tissue (px^2)  \\\n",
       "0    20480      0  22528   2048            602.0           3968   \n",
       "1    22528      0  24576   2048           1561.0           7936   \n",
       "2    12288   2048  14336   4096              0.0           4096   \n",
       "3    14336   2048  16384   4096            143.0           4096   \n",
       "4    18432   2048  20480   4096           6124.0          32768   \n",
       "..     ...    ...    ...    ...              ...            ...   \n",
       "204  20480  30720  22528  32768          28741.0        2392064   \n",
       "205  22528  30720  24576  32768          24032.0        1421312   \n",
       "206  24576  30720  26624  32768           5874.0         516096   \n",
       "207  26624  30720  28672  32768           5743.0          20480   \n",
       "208  32768  30720  34816  32768              0.0           4096   \n",
       "\n",
       "     collagen vs tissue (%)  \n",
       "0                 15.171371  \n",
       "1                 19.669859  \n",
       "2                  0.000000  \n",
       "3                  3.491211  \n",
       "4                 18.688965  \n",
       "..                      ...  \n",
       "204                1.201515  \n",
       "205                1.690832  \n",
       "206                1.138160  \n",
       "207               28.041992  \n",
       "208                0.000000  \n",
       "\n",
       "[209 rows x 7 columns]"
      ]
     },
     "execution_count": 3,
     "metadata": {},
     "output_type": "execute_result"
    }
   ],
   "source": [
    "RES_PATH = \"../data/res.csv\"\n",
    "res = pd.read_csv(RES_PATH)\n",
    "res"
   ]
  },
  {
   "cell_type": "code",
   "execution_count": 4,
   "metadata": {},
   "outputs": [],
   "source": [
    "TILE_SZ = 2048"
   ]
  },
  {
   "cell_type": "code",
   "execution_count": 12,
   "metadata": {},
   "outputs": [],
   "source": [
    "density_map = np.zeros((int(np.ceil(res.x1.max()/TILE_SZ)),int(np.ceil(res.y1.max()/TILE_SZ))))"
   ]
  },
  {
   "cell_type": "code",
   "execution_count": 20,
   "metadata": {},
   "outputs": [],
   "source": [
    "for _, row in res.iterrows():\n",
    "    density_map[int(row.x0//TILE_SZ),int(row.y0//TILE_SZ)] = row[\"collagen vs tissue (%)\"]"
   ]
  },
  {
   "cell_type": "code",
   "execution_count": 49,
   "metadata": {},
   "outputs": [
    {
     "data": {
      "text/plain": [
       "[]"
      ]
     },
     "execution_count": 49,
     "metadata": {},
     "output_type": "execute_result"
    },
    {
     "data": {
      "image/png": "[encoded data removed]",
      "text/plain": [
       "<Figure size 640x480 with 2 Axes>"
      ]
     },
     "metadata": {},
     "output_type": "display_data"
    }
   ],
   "source": [
    "fig, ax = plt.subplots()\n",
    "im = ax.imshow(density_map.T, cmap=\"Blues\", vmin=0,vmax=50)\n",
    "\n",
    "# draw gridlines\n",
    "ax.grid(which='major', axis='both', linestyle='-', color='w', linewidth=2,alpha=1)\n",
    "ax.set_xticks(np.arange(-0.5, density_map.T.shape[1], 1))\n",
    "ax.set_yticks(np.arange(-0.5, density_map.T.shape[0], 1))\n",
    "cbar =  fig.colorbar(im, ax=ax)\n",
    "cbar.set_label('Collagen Percentage (%)', rotation=90)\n",
    "# ax.set_axis_off()\n",
    "ax.set_xticks([])\n",
    "ax.set_yticks([])"
   ]
  }
 ],
 "metadata": {
  "kernelspec": {
   "display_name": "myocardial",
   "language": "python",
   "name": "python3"
  },
  "language_info": {
   "codemirror_mode": {
    "name": "ipython",
    "version": 3
   },
   "file_extension": ".py",
   "mimetype": "text/x-python",
   "name": "python",
   "nbconvert_exporter": "python",
   "pygments_lexer": "ipython3",
   "version": "3.10.9"
  }
 },
 "nbformat": 4,
 "nbformat_minor": 2
}
