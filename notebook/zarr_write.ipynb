{
 "cells": [
  {
   "cell_type": "markdown",
   "metadata": {},
   "source": [
    "# Example code for OME ZARR Writing"
   ]
  },
  {
   "cell_type": "code",
   "execution_count": 29,
   "metadata": {},
   "outputs": [],
   "source": [
    "import numpy as np\n",
    "\n",
    "from skimage.data import binary_blobs\n",
    "from aicsimageio import AICSImage, types\n",
    "from aicsimageio.writers.ome_zarr_writer import OmeZarrWriter\n",
    "\n",
    "import os\n",
    "import shutil"
   ]
  },
  {
   "cell_type": "code",
   "execution_count": 14,
   "metadata": {},
   "outputs": [],
   "source": [
    "# generate image data\n",
    "mean_val=10\n",
    "size_xy = 4096\n",
    "size_z = 10\n",
    "size_c = 3\n",
    "rng = np.random.default_rng(0)\n",
    "data = rng.poisson(mean_val, size=(size_c, size_z, size_xy, size_xy)).astype(np.uint8)"
   ]
  },
  {
   "cell_type": "code",
   "execution_count": 15,
   "metadata": {},
   "outputs": [
    {
     "name": "stdout",
     "output_type": "stream",
     "text": [
      "(3, 10, 4096, 4096)\n"
     ]
    }
   ],
   "source": [
    "print(data.shape)"
   ]
  },
  {
   "cell_type": "code",
   "execution_count": 25,
   "metadata": {},
   "outputs": [],
   "source": [
    "pps = types.PhysicalPixelSizes(X=0.5, Y=0.5, Z=1.0)\n",
    "channel_colors = [\"FFFFFF\",\"00FFFF\",\"0000FF\"]\n",
    "\n",
    "int_color = [int(c, 16) for c in channel_colors]"
   ]
  },
  {
   "cell_type": "code",
   "execution_count": 31,
   "metadata": {},
   "outputs": [],
   "source": [
    "out_path = \"../output/test.ome.zarr\"\n",
    "\n",
    "if os.path.exists(out_path):\n",
    "    shutil.rmtree(out_path)\n",
    "\n",
    "writer = OmeZarrWriter(out_path)\n",
    "\n",
    "writer.write_image(\n",
    "    data, \n",
    "    image_name=\"Image:0\", \n",
    "    physical_pixel_sizes=pps,\n",
    "    channel_names=[\"C00\",\"C01\",\"C02\"],\n",
    "    channel_colors=int_color,\n",
    "    scale_num_levels=3,\n",
    "    scale_factor=2.0,\n",
    "    dimension_order=\"CZYX\"\n",
    "    )"
   ]
  }
 ],
 "metadata": {
  "kernelspec": {
   "display_name": "myocardial",
   "language": "python",
   "name": "python3"
  },
  "language_info": {
   "codemirror_mode": {
    "name": "ipython",
    "version": 3
   },
   "file_extension": ".py",
   "mimetype": "text/x-python",
   "name": "python",
   "nbconvert_exporter": "python",
   "pygments_lexer": "ipython3",
   "version": "3.10.9"
  }
 },
 "nbformat": 4,
 "nbformat_minor": 2
}
